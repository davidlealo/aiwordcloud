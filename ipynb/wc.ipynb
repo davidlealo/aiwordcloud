{
 "cells": [
  {
   "cell_type": "markdown",
   "metadata": {},
   "source": [
    "# Crea ti WordCloud con AI\n",
    "\n",
    "En el presente notebook podrás transcribir un audio y crear una Wordcloud usando distimntas técnicas, una de ellas usando el poder de procesamiento de GPT-4"
   ]
  },
  {
   "cell_type": "code",
   "execution_count": null,
   "metadata": {},
   "outputs": [],
   "source": []
  }
 ],
 "metadata": {
  "language_info": {
   "name": "python"
  }
 },
 "nbformat": 4,
 "nbformat_minor": 2
}
